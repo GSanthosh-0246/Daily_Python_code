{
 "cells": [
  {
   "cell_type": "code",
   "execution_count": 2,
   "metadata": {},
   "outputs": [
    {
     "name": "stdout",
     "output_type": "stream",
     "text": [
      "The value 15 is sum of any two items in [1, 2, 3, 4, 5, 6, 7, 8] is True\n",
      "The value 16 is sum of any two items in [1, 2, 3, 4, 5, 6, 7, 8] is False\n",
      "The value 100 is sum of any two items in [] is False\n"
     ]
    }
   ],
   "source": [
    "#Given a list of numbers and number k, return whether any two numbers from the list add upto k\n",
    "\n",
    "def DoesItMatch(items, val):\n",
    "    for index in range(len(items)):\n",
    "        for innerindex in range(index+1, len(items)):\n",
    "            if items[index]+items[innerindex] == val:\n",
    "                return True\n",
    "    return False\n",
    "\n",
    "#test run\n",
    "itemarr = [1,2,3,4,5,6,7,8]\n",
    "kval = 15\n",
    "print(f\"The value {kval} is sum of any two items in {itemarr} is {DoesItMatch(itemarr,kval)}\")\n",
    "kval = 16\n",
    "print(f\"The value {kval} is sum of any two items in {itemarr} is {DoesItMatch(itemarr,kval)}\")\n",
    "itemarr=[]\n",
    "kval=100\n",
    "print(f\"The value {kval} is sum of any two items in {itemarr} is {DoesItMatch(itemarr,kval)}\")"
   ]
  },
  {
   "cell_type": "code",
   "execution_count": null,
   "metadata": {},
   "outputs": [],
   "source": []
  }
 ],
 "metadata": {
  "kernelspec": {
   "display_name": "Python 3",
   "language": "python",
   "name": "python3"
  },
  "language_info": {
   "codemirror_mode": {
    "name": "ipython",
    "version": 3
   },
   "file_extension": ".py",
   "mimetype": "text/x-python",
   "name": "python",
   "nbconvert_exporter": "python",
   "pygments_lexer": "ipython3",
   "version": "3.12.0"
  }
 },
 "nbformat": 4,
 "nbformat_minor": 2
}
