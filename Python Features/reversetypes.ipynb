{
 "cells": [
  {
   "cell_type": "code",
   "execution_count": 16,
   "metadata": {},
   "outputs": [
    {
     "name": "stdout",
     "output_type": "stream",
     "text": [
      "Original order : \n",
      "['Brazil', 'Russia', 'India', 'China', 'South Africa', 'Egypt', 'Ethiopia', 'Iran', ' UAE']\n",
      "list.reverse() reverse the cotainer inplace \n",
      "[' UAE', 'Iran', 'Ethiopia', 'Egypt', 'South Africa', 'China', 'India', 'Russia', 'Brazil']\n",
      "\n",
      "\n",
      "List Slicing [::-1] returns the copy of list in reversed order. \n",
      "return type = <class 'list'> \n",
      "['Brazil', 'Russia', 'India', 'China', 'South Africa', 'Egypt', 'Ethiopia', 'Iran', ' UAE']\n",
      "\n",
      "\n",
      "reversed(list) return the iterator for the list. \n",
      "return type=<class 'list_reverseiterator'> \n",
      "['Brazil', 'Russia', 'India', 'China', 'South Africa', 'Egypt', 'Ethiopia', 'Iran', ' UAE']\n",
      "[' UAE', 'Iran', 'Ethiopia', 'Egypt', 'South Africa', 'China', 'India', 'Russia', 'Brazil']\n",
      " \n",
      "\n",
      "Conclusion:\n",
      "list.reverse() will work for mutable object. Thus it will not work on tuple/set\n",
      "slicing returns the copy of list. Thus not recommended for working with huge data set\n",
      "reversed(list) would be the best option for list reversal   \n",
      "\n"
     ]
    }
   ],
   "source": [
    "Brics = 'Brazil,Russia,India,China,South Africa,Egypt,Ethiopia,Iran, UAE'.split(',')\n",
    "\n",
    "print(f'Original order : \\n{Brics}')\n",
    "Brics.reverse()\n",
    "print(f'list.reverse() reverse the cotainer inplace \\n{Brics}')\n",
    "\n",
    "print(f'\\n\\nList Slicing [::-1] returns the copy of list in reversed order. \\nreturn type = {type(Brics[::-1])} \\n{Brics[::-1]}')\n",
    "\n",
    "print(f'\\n\\nreversed(list) return the iterator for the list. \\nreturn type={type(reversed(Brics))} \\n{list(reversed(Brics))}')\n",
    "print(Brics)\n",
    "\n",
    "\n",
    "\n",
    "print(''' \\n\\nConclusion:\n",
    "list.reverse() will work for mutable object. Thus it will not work on tuple/set\n",
    "slicing returns the copy of list. Thus not recommended for working with huge data set\n",
    "reversed(list) would be the best option for list reversal   \n",
    "''')"
   ]
  },
  {
   "cell_type": "code",
   "execution_count": null,
   "metadata": {},
   "outputs": [],
   "source": []
  }
 ],
 "metadata": {
  "kernelspec": {
   "display_name": "Python 3",
   "language": "python",
   "name": "python3"
  },
  "language_info": {
   "codemirror_mode": {
    "name": "ipython",
    "version": 3
   },
   "file_extension": ".py",
   "mimetype": "text/x-python",
   "name": "python",
   "nbconvert_exporter": "python",
   "pygments_lexer": "ipython3",
   "version": "3.12.0"
  }
 },
 "nbformat": 4,
 "nbformat_minor": 2
}
