{
 "cells": [
  {
   "cell_type": "code",
   "execution_count": null,
   "metadata": {},
   "outputs": [
    {
     "name": "stdout",
     "output_type": "stream",
     "text": [
      "Fruits = ['Apple', 'Banana', 'Pineapple', 'Strawberry', 'Grapes', 'Orange']\n",
      "Rates = [180, 90, 150, 250, 100, 160]\n",
      "zipped Fruits and Rates: [('Apple', 180), ('Banana', 90), ('Pineapple', 150), ('Strawberry', 250), ('Grapes', 100), ('Orange', 160)]\n",
      "New rates will lesser items = [200, 110, 200]\n",
      "zipped fruits and new rates : [('Apple', 200), ('Banana', 110), ('Pineapple', 200)]\n",
      "zipped using zip_longest fruits and new rates : [('Apple', 200), ('Banana', 110), ('Pineapple', 200), ('Strawberry', 'None'), ('Grapes', 'None'), ('Orange', 'None')]\n"
     ]
    }
   ],
   "source": [
    "#initialize list of items\n",
    "Fruits = 'Apple Banana Pineapple Strawberry Grapes Orange'.split(' ')\n",
    "Rates = [180, 90, 150, 250, 100, 160]\n",
    "\n",
    "print(f'Fruits = {Fruits}')\n",
    "print(f'Rates = {Rates}')\n",
    "clubbed = zip(Fruits,Rates)\n",
    "print(f'zipped Fruits and Rates: {list(clubbed)}')\n",
    "\n",
    "NewRates = [200, 110, 200]\n",
    "print(f'New rates with lesser items = {NewRates}')\n",
    "newclubbed = zip(Fruits, NewRates)\n",
    "print(f'zipped fruits and new rates : {list(newclubbed)}')\n",
    "from itertools import zip_longest\n",
    "newclubbedusingziplong = zip_longest(Fruits,NewRates,fillvalue='None')\n",
    "print(f'zipped using zip_longest fruits and new rates : {list(newclubbedusingziplong)}')\n"
   ]
  },
  {
   "cell_type": "code",
   "execution_count": null,
   "metadata": {},
   "outputs": [],
   "source": []
  }
 ],
 "metadata": {
  "kernelspec": {
   "display_name": "Python 3",
   "language": "python",
   "name": "python3"
  },
  "language_info": {
   "codemirror_mode": {
    "name": "ipython",
    "version": 3
   },
   "file_extension": ".py",
   "mimetype": "text/x-python",
   "name": "python",
   "nbconvert_exporter": "python",
   "pygments_lexer": "ipython3",
   "version": "3.12.0"
  }
 },
 "nbformat": 4,
 "nbformat_minor": 2
}
