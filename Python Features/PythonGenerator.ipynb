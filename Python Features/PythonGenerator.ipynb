{
 "cells": [
  {
   "cell_type": "markdown",
   "metadata": {},
   "source": [
    "Python Generator is useful for handling large data set\n",
    "It is like a function which holds its state and can be act as iterator"
   ]
  },
  {
   "cell_type": "code",
   "execution_count": 8,
   "metadata": {},
   "outputs": [
    {
     "name": "stdout",
     "output_type": "stream",
     "text": [
      "['voice', 'conversation']\n",
      "<generator object isitcontainsi at 0x000002523EB28BA0>\n",
      "['voice', 'conversation']\n"
     ]
    }
   ],
   "source": [
    "'''Generator function\n",
    "-like the regular function\n",
    "-Utilize the yield keyword\n",
    "-Return a lazy iterator - not stored in memory\n",
    "'''\n",
    "\n",
    "some_words = 'the lazy person eats potatoes shallow voice conversation'.split()\n",
    "\n",
    "some_words\n",
    "\n",
    "def Contains_i(words):\n",
    "    i_words=[]\n",
    "    for word in words:\n",
    "        if 'i' in word:\n",
    "            i_words.append(word)\n",
    "\n",
    "    return i_words\n",
    "\n",
    "def isitcontainsi(words):\n",
    "    for word in words:\n",
    "        if 'i' in word:\n",
    "            yield word\n",
    "\n",
    "print(Contains_i(some_words))\n",
    "print(isitcontainsi(some_words))\n",
    "print(list(isitcontainsi(some_words)))"
   ]
  },
  {
   "cell_type": "code",
   "execution_count": null,
   "metadata": {},
   "outputs": [
    {
     "name": "stdout",
     "output_type": "stream",
     "text": [
      "This\n",
      "is\n"
     ]
    },
    {
     "ename": "StopIteration",
     "evalue": "",
     "output_type": "error",
     "traceback": [
      "\u001b[1;31m---------------------------------------------------------------------------\u001b[0m",
      "\u001b[1;31mStopIteration\u001b[0m                             Traceback (most recent call last)",
      "Cell \u001b[1;32mIn[16], line 29\u001b[0m\n\u001b[0;32m     27\u001b[0m \u001b[38;5;28mprint\u001b[39m(\u001b[38;5;28mnext\u001b[39m(gen_obj))\n\u001b[0;32m     28\u001b[0m \u001b[38;5;28mprint\u001b[39m(\u001b[38;5;28mnext\u001b[39m(gen_obj))\n\u001b[1;32m---> 29\u001b[0m \u001b[38;5;28mprint\u001b[39m(\u001b[38;5;28;43mnext\u001b[39;49m\u001b[43m(\u001b[49m\u001b[43mgen_obj\u001b[49m\u001b[43m)\u001b[49m)\n\u001b[0;32m     30\u001b[0m \u001b[38;5;28mprint\u001b[39m(\u001b[38;5;28mnext\u001b[39m(gen_obj))\n",
      "\u001b[1;31mStopIteration\u001b[0m: "
     ]
    }
   ],
   "source": [
    "#generator object can b converted to list\n",
    "#generator object can be looped\n",
    "#generator object can be iterated using next()\n",
    "\n",
    "some_words = 'This is my sample program on Python Generators'.split()\n",
    "\n",
    "def contains_i(words):\n",
    "    for word in words:\n",
    "        if 'i' in word:\n",
    "            yield word\n",
    "\n",
    "gen_obj = contains_i(some_words)\n",
    "\n",
    "#convert tpe\n",
    "# print(list(gen_obj))\n",
    "# print(set(gen_obj)) #generator exhausted\n",
    "# print(set(contains_i(some_words)))\n",
    "# print(tuple(contains_i(some_words)))\n",
    "\n",
    "#loop\n",
    "# for element in gen_obj:\n",
    "#     print(element)\n",
    "# print(list(gen_obj)) #generator exhausted\n",
    "\n",
    "\n",
    "#using next\n",
    "print(next(gen_obj))\n",
    "print(next(gen_obj))\n",
    "print(next(gen_obj))  #error thrown when the generator is exhausted\n",
    "print(next(gen_obj))"
   ]
  },
  {
   "cell_type": "code",
   "execution_count": null,
   "metadata": {},
   "outputs": [],
   "source": []
  }
 ],
 "metadata": {
  "kernelspec": {
   "display_name": "Python 3",
   "language": "python",
   "name": "python3"
  },
  "language_info": {
   "codemirror_mode": {
    "name": "ipython",
    "version": 3
   },
   "file_extension": ".py",
   "mimetype": "text/x-python",
   "name": "python",
   "nbconvert_exporter": "python",
   "pygments_lexer": "ipython3",
   "version": "3.12.0"
  }
 },
 "nbformat": 4,
 "nbformat_minor": 2
}
